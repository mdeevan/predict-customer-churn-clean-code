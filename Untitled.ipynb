{
 "cells": [
  {
   "cell_type": "code",
   "execution_count": 4,
   "id": "0bf4ff1a-24fe-4729-97c8-6a5e1c003a8b",
   "metadata": {},
   "outputs": [],
   "source": [
    "import logging\n",
    "\n",
    "# logger = logging.getLogger(__name__)\n",
    "logging.basicConfig(\n",
    "    filename='./logs/churn_library.log',\n",
    "    level=logging.INFO,\n",
    "    filemode='w',\n",
    "    format='%(name)s - %(levelname)s - %(message)s')"
   ]
  },
  {
   "cell_type": "code",
   "execution_count": 5,
   "id": "f1eb189e-92e0-4a4f-84c2-e21f8a4ae3ea",
   "metadata": {},
   "outputs": [
    {
     "name": "stdout",
     "output_type": "stream",
     "text": [
      "Parent Logger: root\n",
      "Parent Level: 20\n",
      "Parent Handlers: [<FileHandler /home/ec2-user/SageMaker/logs/churn_library.log (NOTSET)>]\n",
      "Logger Level: 0\n",
      "Logger Handlers: []\n"
     ]
    }
   ],
   "source": [
    "print(\"Parent Logger: \"+logger.parent.name)\n",
    "print(\"Parent Level: \"+str(logger.parent.level))\n",
    "print(\"Parent Handlers: \"+str(logger.parent.handlers))\n",
    "print(\"Logger Level: \"+str(logger.level))\n",
    "print(\"Logger Handlers: \"+str(logger.handlers))"
   ]
  },
  {
   "cell_type": "code",
   "execution_count": 6,
   "id": "ccd028ae-801e-4c35-8ee9-d63278d04a3c",
   "metadata": {},
   "outputs": [],
   "source": [
    "logging.info('test')"
   ]
  },
  {
   "cell_type": "code",
   "execution_count": null,
   "id": "b9f63e76-e9f0-4d61-936d-7c017d0c767b",
   "metadata": {},
   "outputs": [],
   "source": []
  }
 ],
 "metadata": {
  "kernelspec": {
   "display_name": "conda_python3",
   "language": "python",
   "name": "conda_python3"
  },
  "language_info": {
   "codemirror_mode": {
    "name": "ipython",
    "version": 3
   },
   "file_extension": ".py",
   "mimetype": "text/x-python",
   "name": "python",
   "nbconvert_exporter": "python",
   "pygments_lexer": "ipython3",
   "version": "3.10.16"
  }
 },
 "nbformat": 4,
 "nbformat_minor": 5
}
