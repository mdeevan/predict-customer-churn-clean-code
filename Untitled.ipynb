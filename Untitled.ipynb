{
 "cells": [
  {
   "cell_type": "code",
   "execution_count": 4,
   "id": "0bf4ff1a-24fe-4729-97c8-6a5e1c003a8b",
   "metadata": {},
   "outputs": [],
   "source": [
    "import logging\n",
    "\n",
    "# logger = logging.getLogger(__name__)\n",
    "logging.basicConfig(\n",
    "    filename='./logs/churn_library.log',\n",
    "    level=logging.INFO,\n",
    "    filemode='w',\n",
    "    format='%(name)s - %(levelname)s - %(message)s')"
   ]
  },
  {
   "cell_type": "code",
   "execution_count": 5,
   "id": "f1eb189e-92e0-4a4f-84c2-e21f8a4ae3ea",
   "metadata": {},
   "outputs": [
    {
     "name": "stdout",
     "output_type": "stream",
     "text": [
      "Parent Logger: root\n",
      "Parent Level: 20\n",
      "Parent Handlers: [<FileHandler /home/ec2-user/SageMaker/logs/churn_library.log (NOTSET)>]\n",
      "Logger Level: 0\n",
      "Logger Handlers: []\n"
     ]
    }
   ],
   "source": [
    "print(\"Parent Logger: \"+logger.parent.name)\n",
    "print(\"Parent Level: \"+str(logger.parent.level))\n",
    "print(\"Parent Handlers: \"+str(logger.parent.handlers))\n",
    "print(\"Logger Level: \"+str(logger.level))\n",
    "print(\"Logger Handlers: \"+str(logger.handlers))"
   ]
  },
  {
   "cell_type": "code",
   "execution_count": 6,
   "id": "ccd028ae-801e-4c35-8ee9-d63278d04a3c",
   "metadata": {},
   "outputs": [],
   "source": [
    "logging.info('test')"
   ]
  },
  {
   "cell_type": "code",
   "execution_count": null,
   "id": "f1d13469-29b8-4dd2-92c7-ab0a4336c623",
   "metadata": {},
   "outputs": [],
   "source": []
  },
  {
   "cell_type": "code",
   "execution_count": 2,
   "id": "b9f63e76-e9f0-4d61-936d-7c017d0c767b",
   "metadata": {},
   "outputs": [],
   "source": [
    "import pandas as pd"
   ]
  },
  {
   "cell_type": "code",
   "execution_count": 5,
   "id": "cf1d5f56-c59d-4c51-b3a8-66e8a87d6c5d",
   "metadata": {},
   "outputs": [
    {
     "data": {
      "text/plain": [
       "(10127, 22)"
      ]
     },
     "execution_count": 5,
     "metadata": {},
     "output_type": "execute_result"
    }
   ],
   "source": [
    "df= pd.read_csv(\"./data/bank_data.csv\", nrows=None)\n",
    "df.shape"
   ]
  },
  {
   "cell_type": "code",
   "execution_count": 11,
   "id": "053c12f1-858f-4d59-b50b-02a73bc36f64",
   "metadata": {},
   "outputs": [],
   "source": [
    "import churn_library_class as clc"
   ]
  },
  {
   "cell_type": "code",
   "execution_count": 15,
   "id": "5e5ca6be-4332-4918-a276-3db3b1909c07",
   "metadata": {},
   "outputs": [],
   "source": [
    "cc_obj = clc.CustomerChurn(nrows=50)"
   ]
  },
  {
   "cell_type": "code",
   "execution_count": 18,
   "id": "9811dab5-383d-4d9c-82c8-0e4805605a3e",
   "metadata": {},
   "outputs": [],
   "source": [
    "cc_obj._import_data()"
   ]
  },
  {
   "cell_type": "code",
   "execution_count": 20,
   "id": "f1af429c-d4df-4c32-aeac-3914a272f4eb",
   "metadata": {},
   "outputs": [
    {
     "data": {
      "text/plain": [
       "(50, 22)"
      ]
     },
     "execution_count": 20,
     "metadata": {},
     "output_type": "execute_result"
    }
   ],
   "source": [
    "cc_obj.df.shape"
   ]
  },
  {
   "cell_type": "code",
   "execution_count": null,
   "id": "246099da-7963-4f45-878d-736ad00ece71",
   "metadata": {},
   "outputs": [],
   "source": []
  }
 ],
 "metadata": {
  "kernelspec": {
   "display_name": "conda_python3",
   "language": "python",
   "name": "conda_python3"
  },
  "language_info": {
   "codemirror_mode": {
    "name": "ipython",
    "version": 3
   },
   "file_extension": ".py",
   "mimetype": "text/x-python",
   "name": "python",
   "nbconvert_exporter": "python",
   "pygments_lexer": "ipython3",
   "version": "3.10.16"
  }
 },
 "nbformat": 4,
 "nbformat_minor": 5
}
